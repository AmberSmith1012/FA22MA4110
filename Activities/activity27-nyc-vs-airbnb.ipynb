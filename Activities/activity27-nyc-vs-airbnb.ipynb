{
 "cells": [
  {
   "cell_type": "markdown",
   "id": "9c10a7a9-4cb4-403c-b91e-6aaa71fd6a75",
   "metadata": {},
   "source": [
    "# Activity 27: NYC vs. Airbnb\n",
    "\n",
    "- Read the article: Airbnb vs. New York CityLinks to an external site.\n",
    "\n",
    "- Links to an external site.The notebook for this activity located in `FA22MA4110/Activities/activity27-airbnb-vs-nyc.ipynb` and the data file is  `FA22MA4110/Activities/data/nyc_airbnb.csv`\n",
    "\n",
    "- The tasks that you need to complete are: \n",
    "\n",
    "1. Design a plan to analyze the data. You should consider looking for things like \"Who owns the most Airbnb units?\", \"How much is the average price for one night?\", \"Is it more expensive to stay in different areas of the city?\", etc.\n",
    "\n",
    "2. Design a Jupyter notebook to analyze the problem. You will need to explore the data to gain additional insight into this problem (i.e. calculate descriptive statistics, plot visualizations, etc.).\n",
    "\n",
    "3. Create a Google Slide presentation to present to the class. You can have no more than 3 slides, including a slide with the names of the members in the group.\n",
    "\n",
    "4. You will submit your .ipynb file AND the Google slides through Canvas.  Make sure you list the null and alternative hypothesis in your slides.  The type of \"test\" you perform is up to you, but make sure it is appropriate for what you are analyzing (ie. if you are comparing groups, you would use A/B testing).\n",
    "\n",
    "5. NOTE: Canvas has a due date, but we discussed the true due date in class.  If you have a question about it, please email me."
   ]
  },
  {
   "cell_type": "code",
   "execution_count": null,
   "id": "12c6101e-b6af-41ac-ac43-59e937b17741",
   "metadata": {},
   "outputs": [],
   "source": []
  }
 ],
 "metadata": {
  "kernelspec": {
   "display_name": "Python 3 (ipykernel)",
   "language": "python",
   "name": "python3"
  },
  "language_info": {
   "codemirror_mode": {
    "name": "ipython",
    "version": 3
   },
   "file_extension": ".py",
   "mimetype": "text/x-python",
   "name": "python",
   "nbconvert_exporter": "python",
   "pygments_lexer": "ipython3",
   "version": "3.10.5"
  }
 },
 "nbformat": 4,
 "nbformat_minor": 5
}
