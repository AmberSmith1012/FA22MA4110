{
 "cells": [
  {
   "cell_type": "markdown",
   "id": "9c10a7a9-4cb4-403c-b91e-6aaa71fd6a75",
   "metadata": {},
   "source": [
    "# Activity 25: Customer Analytics\n",
    "\n",
    "Suppose a working on a data analytics team and your group has been given a data set of customer information. Your manager wants you to analyze the data and make a presentation to a group of venture capitalists that are considering making a sizable investment in your company. \n",
    "Your manager enters the board room and says:\n",
    "\n",
    "\"I need you to tell me which, if any, of these three variables -- gender, Group, or phone type -- appears to be useful in predicting the dollar value of a purchase?  For those (if any) that are, describe how the variable could be used to make a prediction more accurate.\"\n",
    "\n",
    "The data for this activity located in `data/customer_analytics.csv`. \n",
    "\n",
    "The tasks that you need to complete are: \n",
    "\n",
    "- Design a plan to analyze the data. \n",
    "\n",
    "- Present your analysis plan to your instructor to get it approved.\n",
    "\n",
    "- Design a Jupyter notebook to analyze the problem. You will need to explore the data to gain additional insight into this problem (i.e. calculate descriptive statistics, plot visualizations, etc.).\n",
    "\n",
    "- Create a Google Slide presentation to defend this instructor. You can have no more than 3 slides, including a slide with the names of the members in the group.\n",
    "\n",
    "- Present your findings to the class (your presentation is not allowed to exceed 5 minutes)."
   ]
  },
  {
   "cell_type": "code",
   "execution_count": null,
   "id": "12c6101e-b6af-41ac-ac43-59e937b17741",
   "metadata": {},
   "outputs": [],
   "source": []
  }
 ],
 "metadata": {
  "kernelspec": {
   "display_name": "Python 3 (ipykernel)",
   "language": "python",
   "name": "python3"
  },
  "language_info": {
   "codemirror_mode": {
    "name": "ipython",
    "version": 3
   },
   "file_extension": ".py",
   "mimetype": "text/x-python",
   "name": "python",
   "nbconvert_exporter": "python",
   "pygments_lexer": "ipython3",
   "version": "3.10.5"
  }
 },
 "nbformat": 4,
 "nbformat_minor": 5
}
