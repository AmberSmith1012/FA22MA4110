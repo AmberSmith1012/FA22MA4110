{
 "cells": [
  {
   "cell_type": "code",
   "execution_count": 1,
   "metadata": {},
   "outputs": [],
   "source": [
    "from datascience import *\n",
    "import numpy as np"
   ]
  },
  {
   "cell_type": "code",
   "execution_count": 2,
   "metadata": {},
   "outputs": [],
   "source": [
    "skyscrapers = Table.read_table('data/skyscrapers.csv')"
   ]
  },
  {
   "cell_type": "markdown",
   "metadata": {},
   "source": [
    "## Numbers ##"
   ]
  },
  {
   "cell_type": "code",
   "execution_count": 4,
   "metadata": {},
   "outputs": [
    {
     "data": {
      "text/plain": [
       "6.666666666666667"
      ]
     },
     "execution_count": 4,
     "metadata": {},
     "output_type": "execute_result"
    }
   ],
   "source": [
    "# Divide 20 by 3\n",
    "..."
   ]
  },
  {
   "cell_type": "code",
   "execution_count": 5,
   "metadata": {},
   "outputs": [
    {
     "data": {
      "text/plain": [
       "10.0"
      ]
     },
     "execution_count": 5,
     "metadata": {},
     "output_type": "execute_result"
    }
   ],
   "source": [
    "# Divide 20 by 2.  Are you surprised by the answer?\n",
    "..."
   ]
  },
  {
   "cell_type": "code",
   "execution_count": 6,
   "metadata": {},
   "outputs": [
    {
     "data": {
      "text/plain": [
       "2861381721051424"
      ]
     },
     "execution_count": 6,
     "metadata": {},
     "output_type": "execute_result"
    }
   ],
   "source": [
    "# How large are the numbers Python can handle?\n",
    "# Raise 1234 to the 5th power\n",
    "..."
   ]
  },
  {
   "cell_type": "code",
   "execution_count": 7,
   "metadata": {},
   "outputs": [
    {
     "data": {
      "text/plain": [
       "8501231189087579600089751361553790268770349244703297428875589625722666467029941104939346554618071090198338783086373718576302438541333303880149260355204961854660219348723703108817202816413695269234965947705916615090621461642947014634336709271250452147953400166273260278848909785635002746194627726905574383510586443855838501016194842546617466128367893005423946615632150875808229800489923121719324872322046242350358131209328011811786949525196068003065158218919856058009730366652388266762742312727811381080096679122681705212621121694449552467004319038040278415300031865815686537893832036302381576784433617023034776696420714876144485434646470579451349932122786555312581410798435527766468171805917233861943182867785949421920388024490545080852578054799518628169776648400272207657901368826628263954152902385783150069479202174698194137926647193941464878985158866033603990897827957922316614328503432155899763729601975377581454913801778657241584312797743187104615112990826170240576951377437889267043522178249238593031641469549941494342759976108330779190218175412454748751926927383394413538931340595895207489380533100158406056151193717830291989516050792698599824001271625788286400083430435996225870286728426044234538211907415368581834395718465999600878488008607312853910299621718948349669855888836854252419288825696064212121647849551877875083738702829751411930599999622761621401447136127241509252032463327323070454207230975720060696828143799024367860147672207189531148445363579822690090247426809033888593346224400489864273919166242548023881535680191207682155376847968733347385604276041283073347228803815405279998112938547949111103674653832147687792102357868703111192396677366147456000088224345337686711034275719530447049014275259015225178167345787860419429746163578689112295374153342313643102860000043435063407095232225814912427371973655639573401225553397831763058803538321076134083815415808878801086989396808453086722759516791817007120094624007835769308392692512292076325216213400980105527561077936336304777689856279268528402220160062365065232332591377102473934204006130311988805188979219655541468478726919818964117814118792374862057769846985070125485535437404289927188615185691222316241621215766939710853896856813203062169027816260494177289049365381215927091498601917056060292413725363696411243333025412074745992523902361942775529526536373496738092824403787110436969853611291705542181465577860684356486366860656165512948151524933949786531146417170299635082603757569302823079309642165775339529350073334016536451546540101287343407519182886572705773752090361182764058820258039372684336875330193457187912610800811194846692844413250373790522436208281266107102797113360495590669276174666003140785418373792534074610572841949732698528501261527844158885908948457093379372805804839434654279671107358129161157542389885838451898730060682856993779392841932975136525458784109035840416983298605830506319573271130742050796746857088239476285125701191400037072451731684223974010566859507243715790643657351235859756336513849858202588873634540023879638374295951524136236923423671632288707799796254804534131404379431231204837024857385154005913719311686092928666434917434354477753061030585428817582406313947343323157529985612660681069043858038046579763847037562570547171440108195495366373958169243521224322956620783733349921065284787807945332261864322729817303151806498733348746037759221592204992833243474043011524957764893686560384098274570957300202261186252832958713676112057045040733644861358757896798944561785532803162367117322209902786366770185404104429801771112839955437055146806182689958073760306881639356780211743597322337707273020574672167834903012765163624007144211187468411542572963939660561108419475949395174963273413868852896440947424344992179718533116562699371740484706235433706366240569083524185430700469547308694857964159760700105671073001697330585529109121954741220576828524401723676757794795250083720950267587758171582501191501189637061958522207031367402612571734076441860674863814099909712130609708832863842680889265436019725367744101582454551569091979679402651954509598343981143344994024597129576527297449562174131960128341530909092632992001197144131236990528338873298678869553075209034043170992884449709029653566942008795413009270598751643823365272644494325074303521000550383539517161018722764697822086046405563680718131405792201823465582572438557456336286618410630318761812534387255321583672541646660962378801475251590166471466595258572158876046780792443577415200699819116816418271779150023325969827619668356385379492002839104719856567779948453993844186649714112183836256341312617615482430806958408238575908083762936896619234237776772177583159411023017504636095926857331555009746884320121739186130195270017824024543589427772233432983995687775589752856045849787752136728977672421047044616632815386399888296637700670466401959263236561582055778310157915470795145143796474746725370125947980275952922826108308467662042757684610567756146778339591309122209612268095258943366473761985897845055573273671724348548111948847379270386151942239409617923808520510216097802516678970040346980188629443715890930465463804492890211575470612830497028489147272192585685947796464545671963309049439258226873022205625709886668321373234244538080578360227498200648921276375417069081994650310855296691342660962147412307971339042024827405215076215739687361592800757818100677910903440952002286261610473948573453158231294083861144427334581930023810856063221538294930635014609130296973666667250400981564887676855397430415734620826642403239301737465365417336571401497355640018224265552528893856056521264468754259331309642279938999221903924272554971643852022011765947996212275421355829319833800328694415760470248441144112841871615527949567756625459528865177363760130737703504794132062456639099091337141843043572787978733434533767453243181864529530929934401760870432704557779849641423060741199004298604891642184264851178483341038511090722342118873498635737236513496645110435204599001192882345052148291893842746068818312240423860644772035686748207737937330731621572971700220581785018809135077118524157304642073960556985963276791286503519409401480367890088946361913781598819528053807824965631154067173643125103000019765896220170024014812342911173525749157697106521016854161257203523551539146282300370830977932461995240936491993635236903476374429789840395960375345964220770757740813788095016860025483170158351625008006789547501818953994047994918103675713213055967165384541604370431719729029540602763131661822887630690333465610033516515270697981295995776262959098948330585272660656116144967043969319660080776468003023689115985109243276062032314681910559853467564899656051147313316756842800810181868551222821480948679861163616172872803379733777573623808254369599685925204412819323875134478075963684161339050209936379061691033728923807475379415465383025557131060414658886176518426741514818489971200170225002785660981724657558948045769491628137308892224722090788609018498931641698349882126634530850124893008580057089031262692083463530715246539201336162343861003837177762709976164318071419708304774305664605227779130500290518760514487016040637183163730234198931327443230999593434886642032992814007487335032806974334314990662466625794888753011718986752189306642732138825853045557198359478493270993059784423790507239915335903398454260951414810668775167179806613918334466769567939609524474423632422141023039679879483408186345079632030424648847689809026711978081947903438392563709001125646893456021779329424424779391528111421469044606843018300876897395445253306890783761645221940056043388634123454588562306648298749455465977490994025174143753890716103766476979322281404578206477815990052749373250814491832851401070336784979513392325916209262885168692951437735907647072682733715902663075844281947906218641163705685395625799623292587670381081867593848818401532773950884647720702232756097645658920981343899421959357485709585505642079957307512728772215176970128993781357535088567880197542751827341139496635440210208317403228610798745224471360337944308550142133138286140336310210850089257101302693168879798276317068290928736257745653176186634263625371050768240096814085244914326618850585890836001384575901572218127873576262084578014910630523386001475565908224331383474802859023718719809018774147780237944047759978503648153192059539387669322736137970901270986925571309053202739919849451419989108352494436091493296836597733009962614962179159515434257716856173580148874002318298867398237987853860624691033672798285297799458631626290930743534995014732949479703154773215759707098072956386620819003127062648282710469678832752591863293231815729342871660619327557813453247774415659664487688398388095064059490423294993680724278374893719707121254981307094206136913986007896643600161482658832611193920247780934685992417914322966559683642055990954449127160573199392785726754635905855890063412382560973517981021050866306970467833416093939036735381065118352779372161346180266532169488697592826225229385373913274120218966809788862391276736910500922056220340985502760020115819638073740142247532804189017916769440211768994106186308752573719640071345233546773059430518424802367019060759411971955555783765928607321193807028182756584732165717947363836080443779104166099782053802892628426215105575437380575443970807930406429163847227208533516658172008981465870536417992534247869119054571725907031834192238976492462505188434925894284571802135891728461342192904519589748852378897993698002054987272239157980707384539293328406316786051257031276357363596121261371194514622932562625671032070170342014101299531464179007267091513529777800064039808987054298298686823438306885272747323730018071591283348858301520324446652833200656025652139439018968767445890277163242883795493226841395882873453066890758393808352377348137064155139165313796843738357495546901771274019801674136096948056418764420940226231277775442295382059919190325369174324707812524303352519068027684868978718371087463218055693256066300632651127553795883044234715579987402265384978881813429005659612240390356325241"
      ]
     },
     "execution_count": 7,
     "metadata": {},
     "output_type": "execute_result"
    }
   ],
   "source": [
    "# Raise 123456789 to the 1234th power\n",
    "..."
   ]
  },
  {
   "cell_type": "code",
   "execution_count": 8,
   "metadata": {},
   "outputs": [
    {
     "data": {
      "text/plain": [
       "0.005714285714285714"
      ]
     },
     "execution_count": 8,
     "metadata": {},
     "output_type": "execute_result"
    }
   ],
   "source": [
    "# Divide 4 by 700\n",
    "..."
   ]
  },
  {
   "cell_type": "code",
   "execution_count": 9,
   "metadata": {},
   "outputs": [
    {
     "data": {
      "text/plain": [
       "5.714285714285714e-18"
      ]
     },
     "execution_count": 9,
     "metadata": {},
     "output_type": "execute_result"
    }
   ],
   "source": [
    "# Divide 4 by 7000000000000000\n",
    "..."
   ]
  },
  {
   "cell_type": "code",
   "execution_count": 10,
   "metadata": {},
   "outputs": [
    {
     "data": {
      "text/plain": [
       "0.12345678901234568"
      ]
     },
     "execution_count": 10,
     "metadata": {},
     "output_type": "execute_result"
    }
   ],
   "source": [
    "# Run this cell.  What do you notice about the result?\n",
    "0.12345678901234567890123456789"
   ]
  },
  {
   "cell_type": "code",
   "execution_count": 11,
   "metadata": {
    "tags": []
   },
   "outputs": [
    {
     "data": {
      "text/plain": [
       "0.0"
      ]
     },
     "execution_count": 11,
     "metadata": {},
     "output_type": "execute_result"
    }
   ],
   "source": [
    "# Run this cell.  Did you get the answer you expected?\n",
    "0.12345678901234567890123456789 - 0.1234567890123456789"
   ]
  },
  {
   "cell_type": "code",
   "execution_count": 13,
   "metadata": {},
   "outputs": [
    {
     "data": {
      "text/plain": [
       "4.0"
      ]
     },
     "execution_count": 13,
     "metadata": {},
     "output_type": "execute_result"
    }
   ],
   "source": [
    "# Run this cell. What is this cell doing?\n",
    "16 ** 0.5"
   ]
  },
  {
   "cell_type": "code",
   "execution_count": 14,
   "metadata": {},
   "outputs": [
    {
     "data": {
      "text/plain": [
       "10.000000000000002"
      ]
     },
     "execution_count": 14,
     "metadata": {},
     "output_type": "execute_result"
    }
   ],
   "source": [
    "# Run this cell.  Did you get the results you expected?\n",
    "(10 ** 0.5) ** 2"
   ]
  },
  {
   "cell_type": "code",
   "execution_count": 15,
   "metadata": {},
   "outputs": [
    {
     "data": {
      "text/plain": [
       "2.0"
      ]
     },
     "execution_count": 15,
     "metadata": {},
     "output_type": "execute_result"
    }
   ],
   "source": [
    "# What type of value is produced by this cell?\n",
    "20 / 10"
   ]
  },
  {
   "cell_type": "code",
   "execution_count": 16,
   "metadata": {},
   "outputs": [
    {
     "data": {
      "text/plain": [
       "2"
      ]
     },
     "execution_count": 16,
     "metadata": {},
     "output_type": "execute_result"
    }
   ],
   "source": [
    "# If we divide 20 by 10, how would we make the result give us only 2?\n",
    "..."
   ]
  },
  {
   "cell_type": "code",
   "execution_count": 19,
   "metadata": {},
   "outputs": [
    {
     "data": {
      "text/plain": [
       "3.0"
      ]
     },
     "execution_count": 19,
     "metadata": {},
     "output_type": "execute_result"
    }
   ],
   "source": [
    "# How would we turn 3 into 3.0?\n",
    "..."
   ]
  },
  {
   "cell_type": "code",
   "execution_count": 23,
   "metadata": {},
   "outputs": [],
   "source": [
    "# Assign 5 to x\n",
    "..."
   ]
  },
  {
   "cell_type": "code",
   "execution_count": 24,
   "metadata": {},
   "outputs": [
    {
     "ename": "SyntaxError",
     "evalue": "invalid syntax (207285602.py, line 1)",
     "output_type": "error",
     "traceback": [
      "\u001b[0;36m  File \u001b[0;32m\"/tmp/ipykernel_46/207285602.py\"\u001b[0;36m, line \u001b[0;32m1\u001b[0m\n\u001b[0;31m    2x\u001b[0m\n\u001b[0m     ^\u001b[0m\n\u001b[0;31mSyntaxError\u001b[0m\u001b[0;31m:\u001b[0m invalid syntax\n"
     ]
    }
   ],
   "source": [
    "# Run this cell.  Did you see the results you expected?\n",
    "2x"
   ]
  },
  {
   "cell_type": "code",
   "execution_count": 25,
   "metadata": {},
   "outputs": [
    {
     "data": {
      "text/plain": [
       "10"
      ]
     },
     "execution_count": 25,
     "metadata": {},
     "output_type": "execute_result"
    }
   ],
   "source": [
    "# Run this cell.  Why is the result here different?\n",
    "2 * x"
   ]
  },
  {
   "cell_type": "code",
   "execution_count": 26,
   "metadata": {},
   "outputs": [
    {
     "data": {
      "text/plain": [
       "4"
      ]
     },
     "execution_count": 26,
     "metadata": {},
     "output_type": "execute_result"
    }
   ],
   "source": [
    "# Run this cell\n",
    "round(3.7)"
   ]
  },
  {
   "cell_type": "code",
   "execution_count": 27,
   "metadata": {},
   "outputs": [
    {
     "data": {
      "text/plain": [
       "2.0"
      ]
     },
     "execution_count": 27,
     "metadata": {},
     "output_type": "execute_result"
    }
   ],
   "source": [
    "# Run this cell.  What do you notice?\n",
    "round(2.00000052345324, 5)"
   ]
  },
  {
   "cell_type": "code",
   "execution_count": 29,
   "metadata": {},
   "outputs": [
    {
     "data": {
      "text/plain": [
       "30.0"
      ]
     },
     "execution_count": 29,
     "metadata": {},
     "output_type": "execute_result"
    }
   ],
   "source": [
    "# Run this cell.  An integer times a float produces what?\n",
    "10 * 3.0"
   ]
  },
  {
   "cell_type": "markdown",
   "metadata": {},
   "source": [
    "## Strings ##"
   ]
  },
  {
   "cell_type": "code",
   "execution_count": 30,
   "metadata": {},
   "outputs": [
    {
     "data": {
      "text/plain": [
       "'baby yoda'"
      ]
     },
     "execution_count": 30,
     "metadata": {},
     "output_type": "execute_result"
    }
   ],
   "source": [
    "# Run this cell.\n",
    "'baby yoda'"
   ]
  },
  {
   "cell_type": "code",
   "execution_count": 31,
   "metadata": {},
   "outputs": [
    {
     "data": {
      "text/plain": [
       "\"baby yoda isn't yoda\""
      ]
     },
     "execution_count": 31,
     "metadata": {},
     "output_type": "execute_result"
    }
   ],
   "source": [
    "# Run this cell.\n",
    "\"baby yoda isn't yoda\""
   ]
  },
  {
   "cell_type": "code",
   "execution_count": 32,
   "metadata": {},
   "outputs": [
    {
     "ename": "SyntaxError",
     "evalue": "invalid syntax (2396430510.py, line 1)",
     "output_type": "error",
     "traceback": [
      "\u001b[0;36m  File \u001b[0;32m\"/tmp/ipykernel_46/2396430510.py\"\u001b[0;36m, line \u001b[0;32m1\u001b[0m\n\u001b[0;31m    'baby yoda isn't yoda'\u001b[0m\n\u001b[0m                   ^\u001b[0m\n\u001b[0;31mSyntaxError\u001b[0m\u001b[0;31m:\u001b[0m invalid syntax\n"
     ]
    }
   ],
   "source": [
    "# Run this cell. What happened?\n",
    "'baby yoda isn't yoda'  "
   ]
  },
  {
   "cell_type": "code",
   "execution_count": 33,
   "metadata": {},
   "outputs": [
    {
     "data": {
      "text/plain": [
       "'strawberry'"
      ]
     },
     "execution_count": 33,
     "metadata": {},
     "output_type": "execute_result"
    }
   ],
   "source": [
    "# Run this cell. This is called concatenation\n",
    "'straw' + 'berry'"
   ]
  },
  {
   "cell_type": "code",
   "execution_count": 34,
   "metadata": {},
   "outputs": [
    {
     "data": {
      "text/plain": [
       "'straw berry'"
      ]
     },
     "execution_count": 34,
     "metadata": {},
     "output_type": "execute_result"
    }
   ],
   "source": [
    "#  What results do you expect? Now, run this cell.\n",
    "'straw' + ' ' + 'berry'"
   ]
  },
  {
   "cell_type": "code",
   "execution_count": 35,
   "metadata": {},
   "outputs": [
    {
     "data": {
      "text/plain": [
       "'hahahahahahahahahaha'"
      ]
     },
     "execution_count": 35,
     "metadata": {},
     "output_type": "execute_result"
    }
   ],
   "source": [
    "# Run this cell. What do you notice?\n",
    "'ha' * 10"
   ]
  },
  {
   "cell_type": "code",
   "execution_count": 36,
   "metadata": {},
   "outputs": [
    {
     "ename": "TypeError",
     "evalue": "can't multiply sequence by non-int of type 'float'",
     "output_type": "error",
     "traceback": [
      "\u001b[0;31m---------------------------------------------------------------------------\u001b[0m",
      "\u001b[0;31mTypeError\u001b[0m                                 Traceback (most recent call last)",
      "\u001b[0;32m/tmp/ipykernel_46/1099122530.py\u001b[0m in \u001b[0;36m<module>\u001b[0;34m\u001b[0m\n\u001b[0;32m----> 1\u001b[0;31m \u001b[0;34m'lo'\u001b[0m \u001b[0;34m*\u001b[0m \u001b[0;36m5.5\u001b[0m\u001b[0;34m\u001b[0m\u001b[0;34m\u001b[0m\u001b[0m\n\u001b[0m",
      "\u001b[0;31mTypeError\u001b[0m: can't multiply sequence by non-int of type 'float'"
     ]
    }
   ],
   "source": [
    "# Run this cell. What happened?\n",
    "'ha' * 5.5"
   ]
  },
  {
   "cell_type": "code",
   "execution_count": 37,
   "metadata": {},
   "outputs": [
    {
     "data": {
      "text/plain": [
       "3"
      ]
     },
     "execution_count": 37,
     "metadata": {},
     "output_type": "execute_result"
    }
   ],
   "source": [
    "# Run this cell. What results do you expect?\n",
    "int('3')"
   ]
  },
  {
   "cell_type": "code",
   "execution_count": 38,
   "metadata": {},
   "outputs": [
    {
     "ename": "ValueError",
     "evalue": "invalid literal for int() with base 10: '3.0'",
     "output_type": "error",
     "traceback": [
      "\u001b[0;31m---------------------------------------------------------------------------\u001b[0m",
      "\u001b[0;31mValueError\u001b[0m                                Traceback (most recent call last)",
      "\u001b[0;32m/tmp/ipykernel_46/2894328385.py\u001b[0m in \u001b[0;36m<module>\u001b[0;34m\u001b[0m\n\u001b[0;32m----> 1\u001b[0;31m \u001b[0mint\u001b[0m\u001b[0;34m(\u001b[0m\u001b[0;34m'3.0'\u001b[0m\u001b[0;34m)\u001b[0m\u001b[0;34m\u001b[0m\u001b[0;34m\u001b[0m\u001b[0m\n\u001b[0m",
      "\u001b[0;31mValueError\u001b[0m: invalid literal for int() with base 10: '3.0'"
     ]
    }
   ],
   "source": [
    "# Run this cell.\n",
    "int('3.0')"
   ]
  },
  {
   "cell_type": "code",
   "execution_count": 40,
   "metadata": {},
   "outputs": [
    {
     "data": {
      "text/plain": [
       "'3'"
      ]
     },
     "execution_count": 40,
     "metadata": {},
     "output_type": "execute_result"
    }
   ],
   "source": [
    "# Run this cell.\n",
    "str(3)"
   ]
  },
  {
   "cell_type": "code",
   "execution_count": 41,
   "metadata": {},
   "outputs": [
    {
     "data": {
      "text/plain": [
       "'4.5'"
      ]
     },
     "execution_count": 41,
     "metadata": {},
     "output_type": "execute_result"
    }
   ],
   "source": [
    "# Run this cell.\n",
    "str(4.5)"
   ]
  },
  {
   "cell_type": "markdown",
   "metadata": {},
   "source": [
    "## Types ##"
   ]
  },
  {
   "cell_type": "code",
   "execution_count": 42,
   "metadata": {},
   "outputs": [
    {
     "data": {
      "text/plain": [
       "int"
      ]
     },
     "execution_count": 42,
     "metadata": {},
     "output_type": "execute_result"
    }
   ],
   "source": [
    "# What answer do you expect?  Now, run this cell\n",
    "type(10)"
   ]
  },
  {
   "cell_type": "code",
   "execution_count": 43,
   "metadata": {},
   "outputs": [
    {
     "data": {
      "text/plain": [
       "int"
      ]
     },
     "execution_count": 43,
     "metadata": {},
     "output_type": "execute_result"
    }
   ],
   "source": [
    "a = 10\n",
    "type(a)"
   ]
  },
  {
   "cell_type": "code",
   "execution_count": 44,
   "metadata": {},
   "outputs": [
    {
     "data": {
      "text/plain": [
       "float"
      ]
     },
     "execution_count": 44,
     "metadata": {},
     "output_type": "execute_result"
    }
   ],
   "source": [
    "type(4.5)"
   ]
  },
  {
   "cell_type": "code",
   "execution_count": 45,
   "metadata": {},
   "outputs": [
    {
     "data": {
      "text/plain": [
       "str"
      ]
     },
     "execution_count": 45,
     "metadata": {},
     "output_type": "execute_result"
    }
   ],
   "source": [
    "type('abc')"
   ]
  },
  {
   "cell_type": "code",
   "execution_count": 46,
   "metadata": {},
   "outputs": [
    {
     "data": {
      "text/plain": [
       "datascience.tables.Table"
      ]
     },
     "execution_count": 46,
     "metadata": {},
     "output_type": "execute_result"
    }
   ],
   "source": [
    "type(skyscrapers)"
   ]
  },
  {
   "cell_type": "code",
   "execution_count": 47,
   "metadata": {},
   "outputs": [
    {
     "data": {
      "text/plain": [
       "bool"
      ]
     },
     "execution_count": 47,
     "metadata": {},
     "output_type": "execute_result"
    }
   ],
   "source": [
    "type(True)"
   ]
  },
  {
   "cell_type": "code",
   "execution_count": 48,
   "metadata": {},
   "outputs": [
    {
     "data": {
      "text/plain": [
       "builtin_function_or_method"
      ]
     },
     "execution_count": 48,
     "metadata": {},
     "output_type": "execute_result"
    }
   ],
   "source": [
    "type(abs)"
   ]
  },
  {
   "cell_type": "code",
   "execution_count": 50,
   "metadata": {},
   "outputs": [
    {
     "data": {
      "text/plain": [
       "int"
      ]
     },
     "execution_count": 50,
     "metadata": {},
     "output_type": "execute_result"
    }
   ],
   "source": [
    "type(2+2)"
   ]
  },
  {
   "cell_type": "code",
   "execution_count": 51,
   "metadata": {},
   "outputs": [
    {
     "data": {
      "text/plain": [
       "str"
      ]
     },
     "execution_count": 51,
     "metadata": {},
     "output_type": "execute_result"
    }
   ],
   "source": [
    "type('2+2')"
   ]
  },
  {
   "cell_type": "code",
   "execution_count": 52,
   "metadata": {},
   "outputs": [
    {
     "data": {
      "text/plain": [
       "float"
      ]
     },
     "execution_count": 52,
     "metadata": {},
     "output_type": "execute_result"
    }
   ],
   "source": [
    "type(2+2.2)"
   ]
  },
  {
   "cell_type": "markdown",
   "metadata": {},
   "source": [
    "## Arrays ##"
   ]
  },
  {
   "cell_type": "code",
   "execution_count": 53,
   "metadata": {},
   "outputs": [],
   "source": [
    "my_array = make_array(1, 2, 3, 4)"
   ]
  },
  {
   "cell_type": "code",
   "execution_count": 54,
   "metadata": {},
   "outputs": [
    {
     "data": {
      "text/plain": [
       "array([1, 2, 3, 4])"
      ]
     },
     "execution_count": 54,
     "metadata": {},
     "output_type": "execute_result"
    }
   ],
   "source": [
    "my_array"
   ]
  },
  {
   "cell_type": "code",
   "execution_count": 55,
   "metadata": {},
   "outputs": [
    {
     "data": {
      "text/plain": [
       "array([2, 4, 6, 8])"
      ]
     },
     "execution_count": 55,
     "metadata": {},
     "output_type": "execute_result"
    }
   ],
   "source": [
    "my_array * 2"
   ]
  },
  {
   "cell_type": "code",
   "execution_count": 56,
   "metadata": {},
   "outputs": [
    {
     "data": {
      "text/plain": [
       "array([ 1,  4,  9, 16])"
      ]
     },
     "execution_count": 56,
     "metadata": {},
     "output_type": "execute_result"
    }
   ],
   "source": [
    "my_array ** 2"
   ]
  },
  {
   "cell_type": "code",
   "execution_count": 57,
   "metadata": {},
   "outputs": [
    {
     "data": {
      "text/plain": [
       "array([2, 3, 4, 5])"
      ]
     },
     "execution_count": 57,
     "metadata": {},
     "output_type": "execute_result"
    }
   ],
   "source": [
    "my_array + 1"
   ]
  },
  {
   "cell_type": "code",
   "execution_count": 58,
   "metadata": {},
   "outputs": [
    {
     "data": {
      "text/plain": [
       "array([1, 2, 3, 4])"
      ]
     },
     "execution_count": 58,
     "metadata": {},
     "output_type": "execute_result"
    }
   ],
   "source": [
    "my_array"
   ]
  },
  {
   "cell_type": "code",
   "execution_count": 59,
   "metadata": {},
   "outputs": [
    {
     "data": {
      "text/plain": [
       "4"
      ]
     },
     "execution_count": 59,
     "metadata": {},
     "output_type": "execute_result"
    }
   ],
   "source": [
    "len(my_array)"
   ]
  },
  {
   "cell_type": "code",
   "execution_count": 60,
   "metadata": {},
   "outputs": [
    {
     "data": {
      "text/plain": [
       "array([ 2,  6,  8, 10, 21])"
      ]
     },
     "execution_count": 60,
     "metadata": {},
     "output_type": "execute_result"
    }
   ],
   "source": [
    "another_array = make_array(2, 6, 8, 10, 21)\n",
    "another_array"
   ]
  },
  {
   "cell_type": "code",
   "execution_count": 61,
   "metadata": {},
   "outputs": [
    {
     "data": {
      "text/plain": [
       "5"
      ]
     },
     "execution_count": 61,
     "metadata": {},
     "output_type": "execute_result"
    }
   ],
   "source": [
    "len(another_array)"
   ]
  },
  {
   "cell_type": "code",
   "execution_count": 71,
   "metadata": {},
   "outputs": [
    {
     "data": {
      "text/plain": [
       "2.5"
      ]
     },
     "execution_count": 71,
     "metadata": {},
     "output_type": "execute_result"
    }
   ],
   "source": [
    "np.average(my_array)"
   ]
  },
  {
   "cell_type": "code",
   "execution_count": 62,
   "metadata": {},
   "outputs": [
    {
     "data": {
      "text/plain": [
       "10"
      ]
     },
     "execution_count": 62,
     "metadata": {},
     "output_type": "execute_result"
    }
   ],
   "source": [
    "sum(my_array)"
   ]
  },
  {
   "cell_type": "code",
   "execution_count": 63,
   "metadata": {},
   "outputs": [
    {
     "data": {
      "text/plain": [
       "0.4"
      ]
     },
     "execution_count": 63,
     "metadata": {},
     "output_type": "execute_result"
    }
   ],
   "source": [
    "len(my_array) / sum(my_array)"
   ]
  },
  {
   "cell_type": "code",
   "execution_count": 64,
   "metadata": {},
   "outputs": [],
   "source": [
    "another = make_array(60, 70, 80, 90)"
   ]
  },
  {
   "cell_type": "code",
   "execution_count": 65,
   "metadata": {},
   "outputs": [
    {
     "data": {
      "text/plain": [
       "array([61, 72, 83, 94])"
      ]
     },
     "execution_count": 65,
     "metadata": {},
     "output_type": "execute_result"
    }
   ],
   "source": [
    "my_array + another"
   ]
  },
  {
   "cell_type": "code",
   "execution_count": 66,
   "metadata": {},
   "outputs": [],
   "source": [
    "yet_another = make_array(5, 6, 7)"
   ]
  },
  {
   "cell_type": "code",
   "execution_count": 67,
   "metadata": {},
   "outputs": [
    {
     "ename": "ValueError",
     "evalue": "operands could not be broadcast together with shapes (4,) (3,) ",
     "output_type": "error",
     "traceback": [
      "\u001b[0;31m---------------------------------------------------------------------------\u001b[0m",
      "\u001b[0;31mValueError\u001b[0m                                Traceback (most recent call last)",
      "\u001b[0;32m/tmp/ipykernel_46/2954929283.py\u001b[0m in \u001b[0;36m<module>\u001b[0;34m\u001b[0m\n\u001b[0;32m----> 1\u001b[0;31m \u001b[0mmy_array\u001b[0m \u001b[0;34m+\u001b[0m \u001b[0myet_another\u001b[0m\u001b[0;34m\u001b[0m\u001b[0;34m\u001b[0m\u001b[0m\n\u001b[0m",
      "\u001b[0;31mValueError\u001b[0m: operands could not be broadcast together with shapes (4,) (3,) "
     ]
    }
   ],
   "source": [
    "my_array + yet_another"
   ]
  },
  {
   "cell_type": "code",
   "execution_count": 68,
   "metadata": {},
   "outputs": [
    {
     "data": {
      "text/plain": [
       "array(['bluefin', 'albacore', 'jim'], dtype='<U8')"
      ]
     },
     "execution_count": 68,
     "metadata": {},
     "output_type": "execute_result"
    }
   ],
   "source": [
    "tunas = make_array('bluefin', 'albacore', 'jim')\n",
    "tunas"
   ]
  },
  {
   "cell_type": "markdown",
   "metadata": {},
   "source": [
    "## Columns of Tables are Arrays ##"
   ]
  },
  {
   "cell_type": "code",
   "execution_count": 73,
   "metadata": {},
   "outputs": [
    {
     "data": {
      "text/html": [
       "<table border=\"1\" class=\"dataframe\">\n",
       "    <thead>\n",
       "        <tr>\n",
       "            <th>name</th> <th>material</th> <th>city</th> <th>height</th> <th>completed</th>\n",
       "        </tr>\n",
       "    </thead>\n",
       "    <tbody>\n",
       "        <tr>\n",
       "            <td>Bank of America Corporate Center</td> <td>concrete      </td> <td>Charlotte</td> <td>265.48</td> <td>1992     </td>\n",
       "        </tr>\n",
       "        <tr>\n",
       "            <td>Duke Energy Center              </td> <td>concrete/steel</td> <td>Charlotte</td> <td>239.7 </td> <td>2010     </td>\n",
       "        </tr>\n",
       "        <tr>\n",
       "            <td>Hearst Tower                    </td> <td>steel/concrete</td> <td>Charlotte</td> <td>200.81</td> <td>2002     </td>\n",
       "        </tr>\n",
       "    </tbody>\n",
       "</table>"
      ],
      "text/plain": [
       "name                             | material       | city      | height | completed\n",
       "Bank of America Corporate Center | concrete       | Charlotte | 265.48 | 1992\n",
       "Duke Energy Center               | concrete/steel | Charlotte | 239.7  | 2010\n",
       "Hearst Tower                     | steel/concrete | Charlotte | 200.81 | 2002"
      ]
     },
     "execution_count": 73,
     "metadata": {},
     "output_type": "execute_result"
    }
   ],
   "source": [
    "charlotte = skyscrapers.where('city', 'Charlotte')\n",
    "charlotte"
   ]
  },
  {
   "cell_type": "code",
   "execution_count": 74,
   "metadata": {},
   "outputs": [
    {
     "data": {
      "text/html": [
       "<table border=\"1\" class=\"dataframe\">\n",
       "    <thead>\n",
       "        <tr>\n",
       "            <th>height</th>\n",
       "        </tr>\n",
       "    </thead>\n",
       "    <tbody>\n",
       "        <tr>\n",
       "            <td>265.48</td>\n",
       "        </tr>\n",
       "        <tr>\n",
       "            <td>239.7 </td>\n",
       "        </tr>\n",
       "        <tr>\n",
       "            <td>200.81</td>\n",
       "        </tr>\n",
       "    </tbody>\n",
       "</table>"
      ],
      "text/plain": [
       "height\n",
       "265.48\n",
       "239.7\n",
       "200.81"
      ]
     },
     "execution_count": 74,
     "metadata": {},
     "output_type": "execute_result"
    }
   ],
   "source": [
    "charlotte.select('height')"
   ]
  },
  {
   "cell_type": "code",
   "execution_count": 75,
   "metadata": {},
   "outputs": [
    {
     "data": {
      "text/plain": [
       "array([265.48001099, 239.69999695, 200.80999756])"
      ]
     },
     "execution_count": 75,
     "metadata": {},
     "output_type": "execute_result"
    }
   ],
   "source": [
    "charlotte.column('height')"
   ]
  },
  {
   "cell_type": "markdown",
   "metadata": {},
   "source": [
    "##Question## What do you notice is different about the result of using\n",
    ".select versus using .column?"
   ]
  },
  {
   "cell_type": "code",
   "execution_count": 76,
   "metadata": {},
   "outputs": [
    {
     "data": {
      "text/plain": [
       "235.33000183105332"
      ]
     },
     "execution_count": 76,
     "metadata": {},
     "output_type": "execute_result"
    }
   ],
   "source": [
    "np.average(charlotte.column('height'))"
   ]
  },
  {
   "cell_type": "code",
   "execution_count": 78,
   "metadata": {},
   "outputs": [
    {
     "data": {
      "text/html": [
       "<table border=\"1\" class=\"dataframe\">\n",
       "    <thead>\n",
       "        <tr>\n",
       "            <th>name</th> <th>material</th> <th>city</th> <th>height</th> <th>completed</th>\n",
       "        </tr>\n",
       "    </thead>\n",
       "    <tbody>\n",
       "        <tr>\n",
       "            <td>Bank of America Plaza</td> <td>composite</td> <td>Dallas</td> <td>280.72</td> <td>1985     </td>\n",
       "        </tr>\n",
       "        <tr>\n",
       "            <td>Renaissance Tower    </td> <td>steel    </td> <td>Dallas</td> <td>270.06</td> <td>1986     </td>\n",
       "        </tr>\n",
       "        <tr>\n",
       "            <td>Comerica Bank Tower  </td> <td>composite</td> <td>Dallas</td> <td>239.88</td> <td>1987     </td>\n",
       "        </tr>\n",
       "        <tr>\n",
       "            <td>Fountain Place       </td> <td>steel    </td> <td>Dallas</td> <td>219.46</td> <td>1986     </td>\n",
       "        </tr>\n",
       "    </tbody>\n",
       "</table>"
      ],
      "text/plain": [
       "name                  | material  | city   | height | completed\n",
       "Bank of America Plaza | composite | Dallas | 280.72 | 1985\n",
       "Renaissance Tower     | steel     | Dallas | 270.06 | 1986\n",
       "Comerica Bank Tower   | composite | Dallas | 239.88 | 1987\n",
       "Fountain Place        | steel     | Dallas | 219.46 | 1986"
      ]
     },
     "execution_count": 78,
     "metadata": {},
     "output_type": "execute_result"
    }
   ],
   "source": [
    "dallas = skyscrapers.where('city', 'Dallas')\n",
    "dallas"
   ]
  },
  {
   "cell_type": "code",
   "execution_count": 79,
   "metadata": {},
   "outputs": [
    {
     "data": {
      "text/plain": [
       "17.200000762939197"
      ]
     },
     "execution_count": 79,
     "metadata": {},
     "output_type": "execute_result"
    }
   ],
   "source": [
    "np.average(dallas.column('height')) - np.average(charlotte.column('height'))"
   ]
  },
  {
   "cell_type": "code",
   "execution_count": null,
   "metadata": {},
   "outputs": [],
   "source": []
  }
 ],
 "metadata": {
  "anaconda-cloud": {},
  "kernelspec": {
   "display_name": "Python 3 (ipykernel)",
   "language": "python",
   "name": "python3"
  },
  "language_info": {
   "codemirror_mode": {
    "name": "ipython",
    "version": 3
   },
   "file_extension": ".py",
   "mimetype": "text/x-python",
   "name": "python",
   "nbconvert_exporter": "python",
   "pygments_lexer": "ipython3",
   "version": "3.10.5"
  }
 },
 "nbformat": 4,
 "nbformat_minor": 4
}
